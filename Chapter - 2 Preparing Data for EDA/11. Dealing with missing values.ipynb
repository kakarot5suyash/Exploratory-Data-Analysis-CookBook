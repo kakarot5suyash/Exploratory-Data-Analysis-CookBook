{
 "cells": [
  {
   "cell_type": "markdown",
   "id": "721120ea-f5a1-49e8-bc23-8663c90462a6",
   "metadata": {},
   "source": [
    "# Dealing with missing values"
   ]
  },
  {
   "cell_type": "markdown",
   "id": "4d4f1832-1b79-4de3-b3cf-0fb9f6da22af",
   "metadata": {},
   "source": [
    "## Importing pandas"
   ]
  },
  {
   "cell_type": "code",
   "execution_count": 1,
   "id": "eed7c299-9f61-4bd5-a093-1e7294cef36b",
   "metadata": {},
   "outputs": [],
   "source": [
    "import pandas as pd"
   ]
  },
  {
   "cell_type": "markdown",
   "id": "e535115a-3b28-45dd-8db8-6bd7bdff7289",
   "metadata": {},
   "source": [
    "## Loading dataset and including relevant columns"
   ]
  },
  {
   "cell_type": "code",
   "execution_count": 2,
   "id": "08ee3efa-68b7-427d-a2c4-209e12e33858",
   "metadata": {},
   "outputs": [],
   "source": [
    "marketing_data = pd.read_csv('Data/marketing_campaign.csv')\n",
    "marketing_data = marketing_data[['ID', 'Year_Birth', 'Education', 'Income']]"
   ]
  },
  {
   "cell_type": "code",
   "execution_count": 3,
   "id": "50be9b61-3018-4ed6-89b2-085e2446a0d2",
   "metadata": {},
   "outputs": [
    {
     "data": {
      "text/html": [
       "<div>\n",
       "<style scoped>\n",
       "    .dataframe tbody tr th:only-of-type {\n",
       "        vertical-align: middle;\n",
       "    }\n",
       "\n",
       "    .dataframe tbody tr th {\n",
       "        vertical-align: top;\n",
       "    }\n",
       "\n",
       "    .dataframe thead th {\n",
       "        text-align: right;\n",
       "    }\n",
       "</style>\n",
       "<table border=\"1\" class=\"dataframe\">\n",
       "  <thead>\n",
       "    <tr style=\"text-align: right;\">\n",
       "      <th></th>\n",
       "      <th>ID</th>\n",
       "      <th>Year_Birth</th>\n",
       "      <th>Education</th>\n",
       "      <th>Income</th>\n",
       "    </tr>\n",
       "  </thead>\n",
       "  <tbody>\n",
       "    <tr>\n",
       "      <th>0</th>\n",
       "      <td>5524</td>\n",
       "      <td>1957</td>\n",
       "      <td>Graduation</td>\n",
       "      <td>58138.0</td>\n",
       "    </tr>\n",
       "    <tr>\n",
       "      <th>1</th>\n",
       "      <td>2174</td>\n",
       "      <td>1954</td>\n",
       "      <td>Graduation</td>\n",
       "      <td>46344.0</td>\n",
       "    </tr>\n",
       "    <tr>\n",
       "      <th>2</th>\n",
       "      <td>4141</td>\n",
       "      <td>1965</td>\n",
       "      <td>Graduation</td>\n",
       "      <td>71613.0</td>\n",
       "    </tr>\n",
       "    <tr>\n",
       "      <th>3</th>\n",
       "      <td>6182</td>\n",
       "      <td>1984</td>\n",
       "      <td>Graduation</td>\n",
       "      <td>26646.0</td>\n",
       "    </tr>\n",
       "    <tr>\n",
       "      <th>4</th>\n",
       "      <td>5324</td>\n",
       "      <td>1981</td>\n",
       "      <td>PhD</td>\n",
       "      <td>58293.0</td>\n",
       "    </tr>\n",
       "    <tr>\n",
       "      <th>5</th>\n",
       "      <td>7446</td>\n",
       "      <td>1967</td>\n",
       "      <td>Master</td>\n",
       "      <td>62513.0</td>\n",
       "    </tr>\n",
       "    <tr>\n",
       "      <th>6</th>\n",
       "      <td>965</td>\n",
       "      <td>1971</td>\n",
       "      <td>Graduation</td>\n",
       "      <td>55635.0</td>\n",
       "    </tr>\n",
       "    <tr>\n",
       "      <th>7</th>\n",
       "      <td>6177</td>\n",
       "      <td>1985</td>\n",
       "      <td>PhD</td>\n",
       "      <td>33454.0</td>\n",
       "    </tr>\n",
       "    <tr>\n",
       "      <th>8</th>\n",
       "      <td>4855</td>\n",
       "      <td>1974</td>\n",
       "      <td>PhD</td>\n",
       "      <td>30351.0</td>\n",
       "    </tr>\n",
       "    <tr>\n",
       "      <th>9</th>\n",
       "      <td>5899</td>\n",
       "      <td>1950</td>\n",
       "      <td>PhD</td>\n",
       "      <td>5648.0</td>\n",
       "    </tr>\n",
       "  </tbody>\n",
       "</table>\n",
       "</div>"
      ],
      "text/plain": [
       "     ID  Year_Birth   Education   Income\n",
       "0  5524        1957  Graduation  58138.0\n",
       "1  2174        1954  Graduation  46344.0\n",
       "2  4141        1965  Graduation  71613.0\n",
       "3  6182        1984  Graduation  26646.0\n",
       "4  5324        1981         PhD  58293.0\n",
       "5  7446        1967      Master  62513.0\n",
       "6   965        1971  Graduation  55635.0\n",
       "7  6177        1985         PhD  33454.0\n",
       "8  4855        1974         PhD  30351.0\n",
       "9  5899        1950         PhD   5648.0"
      ]
     },
     "execution_count": 3,
     "metadata": {},
     "output_type": "execute_result"
    }
   ],
   "source": [
    "marketing_data.head(10)"
   ]
  },
  {
   "cell_type": "code",
   "execution_count": 4,
   "id": "6665cf8d-da6d-4386-a4fc-a636b2262d7b",
   "metadata": {},
   "outputs": [
    {
     "data": {
      "text/plain": [
       "(2240, 4)"
      ]
     },
     "execution_count": 4,
     "metadata": {},
     "output_type": "execute_result"
    }
   ],
   "source": [
    "marketing_data.shape"
   ]
  },
  {
   "cell_type": "markdown",
   "id": "d23bc532-0d60-4c38-8673-eacad2b1d664",
   "metadata": {},
   "source": [
    "## Check for missing values using the isnull and sum methods:"
   ]
  },
  {
   "cell_type": "code",
   "execution_count": 5,
   "id": "983f311e-f867-41e1-862a-a54093a95511",
   "metadata": {},
   "outputs": [
    {
     "data": {
      "text/plain": [
       "ID             0\n",
       "Year_Birth     0\n",
       "Education      0\n",
       "Income        24\n",
       "dtype: int64"
      ]
     },
     "execution_count": 5,
     "metadata": {},
     "output_type": "execute_result"
    }
   ],
   "source": [
    "marketing_data.isnull().sum()"
   ]
  },
  {
   "cell_type": "markdown",
   "id": "6cdc89c0-c160-4e11-8040-6e1b76acb731",
   "metadata": {},
   "source": [
    "## Drop missing values using the dropna method:"
   ]
  },
  {
   "cell_type": "code",
   "execution_count": 6,
   "id": "c908d7fb-99df-4e80-89b4-d7e1bce768ca",
   "metadata": {},
   "outputs": [],
   "source": [
    "marketing_data_withoutna = marketing_data.dropna(how = 'any')"
   ]
  },
  {
   "cell_type": "code",
   "execution_count": 7,
   "id": "6102fafe-1bc5-4021-9c0e-0db3245badb9",
   "metadata": {},
   "outputs": [
    {
     "data": {
      "text/plain": [
       "(2216, 4)"
      ]
     },
     "execution_count": 7,
     "metadata": {},
     "output_type": "execute_result"
    }
   ],
   "source": [
    "marketing_data_withoutna.shape"
   ]
  },
  {
   "cell_type": "code",
   "execution_count": null,
   "id": "0e8e66c9-a841-41bb-abd1-4377280e9a20",
   "metadata": {},
   "outputs": [],
   "source": []
  }
 ],
 "metadata": {
  "kernelspec": {
   "display_name": "Python 3 (ipykernel)",
   "language": "python",
   "name": "python3"
  },
  "language_info": {
   "codemirror_mode": {
    "name": "ipython",
    "version": 3
   },
   "file_extension": ".py",
   "mimetype": "text/x-python",
   "name": "python",
   "nbconvert_exporter": "python",
   "pygments_lexer": "ipython3",
   "version": "3.11.3"
  }
 },
 "nbformat": 4,
 "nbformat_minor": 5
}
