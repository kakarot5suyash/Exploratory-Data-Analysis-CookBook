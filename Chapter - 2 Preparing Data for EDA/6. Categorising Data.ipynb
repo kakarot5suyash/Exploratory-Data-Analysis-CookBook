{
 "cells": [
  {
   "cell_type": "markdown",
   "id": "06f31686-53fa-4c06-9f48-c3e3fb877c69",
   "metadata": {},
   "source": [
    "# Categorising Data using Datasets"
   ]
  },
  {
   "cell_type": "markdown",
   "id": "ac197d7c-15d0-4e36-a43e-889c02f089af",
   "metadata": {},
   "source": [
    "## importing pandas"
   ]
  },
  {
   "cell_type": "code",
   "execution_count": 1,
   "id": "9044d2eb-be59-45af-a8d7-751e1633bf79",
   "metadata": {},
   "outputs": [],
   "source": [
    "import pandas as pd"
   ]
  },
  {
   "cell_type": "markdown",
   "id": "9a042b7e-4644-419a-b0e7-9f918ea86dd6",
   "metadata": {},
   "source": [
    "## Loading dataset and including relevant columns"
   ]
  },
  {
   "cell_type": "code",
   "execution_count": 2,
   "id": "f1341d9c-7044-4e1f-9fe8-45dc3c25d348",
   "metadata": {},
   "outputs": [],
   "source": [
    "marketing_data = pd.read_csv('Data/marketing_campaign.csv')\n",
    "marketing_data = marketing_data[['ID','Year_Birth', 'Education','Marital_Status','Income','Kidhome', 'Teenhome', 'Dt_Customer', 'Recency','NumStorePurchases','NumWebVisitsMonth']]\n"
   ]
  },
  {
   "cell_type": "code",
   "execution_count": 3,
   "id": "ad2f1ce2-9b5a-47ab-ab4f-5b0f892f35c5",
   "metadata": {},
   "outputs": [
    {
     "data": {
      "text/html": [
       "<div>\n",
       "<style scoped>\n",
       "    .dataframe tbody tr th:only-of-type {\n",
       "        vertical-align: middle;\n",
       "    }\n",
       "\n",
       "    .dataframe tbody tr th {\n",
       "        vertical-align: top;\n",
       "    }\n",
       "\n",
       "    .dataframe thead th {\n",
       "        text-align: right;\n",
       "    }\n",
       "</style>\n",
       "<table border=\"1\" class=\"dataframe\">\n",
       "  <thead>\n",
       "    <tr style=\"text-align: right;\">\n",
       "      <th></th>\n",
       "      <th>0</th>\n",
       "      <th>1</th>\n",
       "      <th>2</th>\n",
       "      <th>3</th>\n",
       "      <th>4</th>\n",
       "    </tr>\n",
       "  </thead>\n",
       "  <tbody>\n",
       "    <tr>\n",
       "      <th>ID</th>\n",
       "      <td>5524</td>\n",
       "      <td>2174</td>\n",
       "      <td>4141</td>\n",
       "      <td>6182</td>\n",
       "      <td>5324</td>\n",
       "    </tr>\n",
       "    <tr>\n",
       "      <th>Year_Birth</th>\n",
       "      <td>1957</td>\n",
       "      <td>1954</td>\n",
       "      <td>1965</td>\n",
       "      <td>1984</td>\n",
       "      <td>1981</td>\n",
       "    </tr>\n",
       "    <tr>\n",
       "      <th>Education</th>\n",
       "      <td>Graduation</td>\n",
       "      <td>Graduation</td>\n",
       "      <td>Graduation</td>\n",
       "      <td>Graduation</td>\n",
       "      <td>PhD</td>\n",
       "    </tr>\n",
       "    <tr>\n",
       "      <th>Marital_Status</th>\n",
       "      <td>Single</td>\n",
       "      <td>Single</td>\n",
       "      <td>Together</td>\n",
       "      <td>Together</td>\n",
       "      <td>Married</td>\n",
       "    </tr>\n",
       "    <tr>\n",
       "      <th>Income</th>\n",
       "      <td>58138.0</td>\n",
       "      <td>46344.0</td>\n",
       "      <td>71613.0</td>\n",
       "      <td>26646.0</td>\n",
       "      <td>58293.0</td>\n",
       "    </tr>\n",
       "    <tr>\n",
       "      <th>Kidhome</th>\n",
       "      <td>0</td>\n",
       "      <td>1</td>\n",
       "      <td>0</td>\n",
       "      <td>1</td>\n",
       "      <td>1</td>\n",
       "    </tr>\n",
       "    <tr>\n",
       "      <th>Teenhome</th>\n",
       "      <td>0</td>\n",
       "      <td>1</td>\n",
       "      <td>0</td>\n",
       "      <td>0</td>\n",
       "      <td>0</td>\n",
       "    </tr>\n",
       "    <tr>\n",
       "      <th>Dt_Customer</th>\n",
       "      <td>04-09-2012</td>\n",
       "      <td>08-03-2014</td>\n",
       "      <td>21-08-2013</td>\n",
       "      <td>10-02-2014</td>\n",
       "      <td>19-01-2014</td>\n",
       "    </tr>\n",
       "    <tr>\n",
       "      <th>Recency</th>\n",
       "      <td>58</td>\n",
       "      <td>38</td>\n",
       "      <td>26</td>\n",
       "      <td>26</td>\n",
       "      <td>94</td>\n",
       "    </tr>\n",
       "    <tr>\n",
       "      <th>NumStorePurchases</th>\n",
       "      <td>4</td>\n",
       "      <td>2</td>\n",
       "      <td>10</td>\n",
       "      <td>4</td>\n",
       "      <td>6</td>\n",
       "    </tr>\n",
       "    <tr>\n",
       "      <th>NumWebVisitsMonth</th>\n",
       "      <td>7</td>\n",
       "      <td>5</td>\n",
       "      <td>4</td>\n",
       "      <td>6</td>\n",
       "      <td>5</td>\n",
       "    </tr>\n",
       "  </tbody>\n",
       "</table>\n",
       "</div>"
      ],
      "text/plain": [
       "                            0           1           2           3           4\n",
       "ID                       5524        2174        4141        6182        5324\n",
       "Year_Birth               1957        1954        1965        1984        1981\n",
       "Education          Graduation  Graduation  Graduation  Graduation         PhD\n",
       "Marital_Status         Single      Single    Together    Together     Married\n",
       "Income                58138.0     46344.0     71613.0     26646.0     58293.0\n",
       "Kidhome                     0           1           0           1           1\n",
       "Teenhome                    0           1           0           0           0\n",
       "Dt_Customer        04-09-2012  08-03-2014  21-08-2013  10-02-2014  19-01-2014\n",
       "Recency                    58          38          26          26          94\n",
       "NumStorePurchases           4           2          10           4           6\n",
       "NumWebVisitsMonth           7           5           4           6           5"
      ]
     },
     "execution_count": 3,
     "metadata": {},
     "output_type": "execute_result"
    }
   ],
   "source": [
    "marketing_data.head(5).T"
   ]
  },
  {
   "cell_type": "markdown",
   "id": "5c776227-1a98-4fda-85d5-fc9a7e17335b",
   "metadata": {},
   "source": [
    "## Categorize the number of store purchases into high, moderate, and low categories:"
   ]
  },
  {
   "cell_type": "code",
   "execution_count": 4,
   "id": "b16a7d03-7060-4b32-8786-be25b5290c63",
   "metadata": {},
   "outputs": [],
   "source": [
    "marketing_data['bins'] = pd.cut(x=marketing_data['NumStorePurchases'], bins=[0, 4, 8, 13], labels=['Low', 'Moderate', 'High'])"
   ]
  },
  {
   "cell_type": "code",
   "execution_count": 5,
   "id": "79b356bd-9e0e-4123-a052-1c521bc025e7",
   "metadata": {},
   "outputs": [
    {
     "data": {
      "text/html": [
       "<div>\n",
       "<style scoped>\n",
       "    .dataframe tbody tr th:only-of-type {\n",
       "        vertical-align: middle;\n",
       "    }\n",
       "\n",
       "    .dataframe tbody tr th {\n",
       "        vertical-align: top;\n",
       "    }\n",
       "\n",
       "    .dataframe thead th {\n",
       "        text-align: right;\n",
       "    }\n",
       "</style>\n",
       "<table border=\"1\" class=\"dataframe\">\n",
       "  <thead>\n",
       "    <tr style=\"text-align: right;\">\n",
       "      <th></th>\n",
       "      <th>NumStorePurchases</th>\n",
       "      <th>bins</th>\n",
       "    </tr>\n",
       "  </thead>\n",
       "  <tbody>\n",
       "    <tr>\n",
       "      <th>0</th>\n",
       "      <td>4</td>\n",
       "      <td>Low</td>\n",
       "    </tr>\n",
       "    <tr>\n",
       "      <th>1</th>\n",
       "      <td>2</td>\n",
       "      <td>Low</td>\n",
       "    </tr>\n",
       "    <tr>\n",
       "      <th>2</th>\n",
       "      <td>10</td>\n",
       "      <td>High</td>\n",
       "    </tr>\n",
       "    <tr>\n",
       "      <th>3</th>\n",
       "      <td>4</td>\n",
       "      <td>Low</td>\n",
       "    </tr>\n",
       "    <tr>\n",
       "      <th>4</th>\n",
       "      <td>6</td>\n",
       "      <td>Moderate</td>\n",
       "    </tr>\n",
       "  </tbody>\n",
       "</table>\n",
       "</div>"
      ],
      "text/plain": [
       "   NumStorePurchases      bins\n",
       "0                  4       Low\n",
       "1                  2       Low\n",
       "2                 10      High\n",
       "3                  4       Low\n",
       "4                  6  Moderate"
      ]
     },
     "execution_count": 5,
     "metadata": {},
     "output_type": "execute_result"
    }
   ],
   "source": [
    "marketing_data[['NumStorePurchases','bins']].head()"
   ]
  },
  {
   "cell_type": "code",
   "execution_count": null,
   "id": "d08a87e8-9e77-4b4d-8c71-cebe06815d6f",
   "metadata": {},
   "outputs": [],
   "source": []
  }
 ],
 "metadata": {
  "kernelspec": {
   "display_name": "Python 3 (ipykernel)",
   "language": "python",
   "name": "python3"
  },
  "language_info": {
   "codemirror_mode": {
    "name": "ipython",
    "version": 3
   },
   "file_extension": ".py",
   "mimetype": "text/x-python",
   "name": "python",
   "nbconvert_exporter": "python",
   "pygments_lexer": "ipython3",
   "version": "3.11.3"
  }
 },
 "nbformat": 4,
 "nbformat_minor": 5
}
