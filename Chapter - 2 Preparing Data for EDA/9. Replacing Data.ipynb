{
 "cells": [
  {
   "cell_type": "markdown",
   "id": "367e3272-4a56-4d35-8cba-b0833eb5f747",
   "metadata": {},
   "source": [
    "# Replacing Data in a dataset"
   ]
  },
  {
   "cell_type": "markdown",
   "id": "9a06aab7-ba20-4b09-8cc9-34076ac85e60",
   "metadata": {},
   "source": [
    "## Importing pandas"
   ]
  },
  {
   "cell_type": "code",
   "execution_count": 1,
   "id": "922f0ef9-9f16-4a64-a8d9-f931df25314f",
   "metadata": {},
   "outputs": [],
   "source": [
    "import pandas as pd"
   ]
  },
  {
   "cell_type": "markdown",
   "id": "5401868f-da2f-4994-97d7-877c26b748c9",
   "metadata": {},
   "source": [
    "## Loading Dataset and including relevant columns"
   ]
  },
  {
   "cell_type": "code",
   "execution_count": 2,
   "id": "b97cb5c3-4988-4746-aeb2-fe727c948429",
   "metadata": {},
   "outputs": [],
   "source": [
    "marketing_data = pd.read_csv('Data/marketing_campaign.csv')\n",
    "marketing_data = marketing_data[['ID', 'Year_Birth','Kidhome', 'Teenhome']]"
   ]
  },
  {
   "cell_type": "code",
   "execution_count": 3,
   "id": "7e7edc45-c0b5-41d7-b978-18f1f83854dd",
   "metadata": {},
   "outputs": [
    {
     "data": {
      "text/html": [
       "<div>\n",
       "<style scoped>\n",
       "    .dataframe tbody tr th:only-of-type {\n",
       "        vertical-align: middle;\n",
       "    }\n",
       "\n",
       "    .dataframe tbody tr th {\n",
       "        vertical-align: top;\n",
       "    }\n",
       "\n",
       "    .dataframe thead th {\n",
       "        text-align: right;\n",
       "    }\n",
       "</style>\n",
       "<table border=\"1\" class=\"dataframe\">\n",
       "  <thead>\n",
       "    <tr style=\"text-align: right;\">\n",
       "      <th></th>\n",
       "      <th>ID</th>\n",
       "      <th>Year_Birth</th>\n",
       "      <th>Kidhome</th>\n",
       "      <th>Teenhome</th>\n",
       "    </tr>\n",
       "  </thead>\n",
       "  <tbody>\n",
       "    <tr>\n",
       "      <th>0</th>\n",
       "      <td>5524</td>\n",
       "      <td>1957</td>\n",
       "      <td>0</td>\n",
       "      <td>0</td>\n",
       "    </tr>\n",
       "    <tr>\n",
       "      <th>1</th>\n",
       "      <td>2174</td>\n",
       "      <td>1954</td>\n",
       "      <td>1</td>\n",
       "      <td>1</td>\n",
       "    </tr>\n",
       "    <tr>\n",
       "      <th>2</th>\n",
       "      <td>4141</td>\n",
       "      <td>1965</td>\n",
       "      <td>0</td>\n",
       "      <td>0</td>\n",
       "    </tr>\n",
       "    <tr>\n",
       "      <th>3</th>\n",
       "      <td>6182</td>\n",
       "      <td>1984</td>\n",
       "      <td>1</td>\n",
       "      <td>0</td>\n",
       "    </tr>\n",
       "    <tr>\n",
       "      <th>4</th>\n",
       "      <td>5324</td>\n",
       "      <td>1981</td>\n",
       "      <td>1</td>\n",
       "      <td>0</td>\n",
       "    </tr>\n",
       "    <tr>\n",
       "      <th>5</th>\n",
       "      <td>7446</td>\n",
       "      <td>1967</td>\n",
       "      <td>0</td>\n",
       "      <td>1</td>\n",
       "    </tr>\n",
       "    <tr>\n",
       "      <th>6</th>\n",
       "      <td>965</td>\n",
       "      <td>1971</td>\n",
       "      <td>0</td>\n",
       "      <td>1</td>\n",
       "    </tr>\n",
       "    <tr>\n",
       "      <th>7</th>\n",
       "      <td>6177</td>\n",
       "      <td>1985</td>\n",
       "      <td>1</td>\n",
       "      <td>0</td>\n",
       "    </tr>\n",
       "    <tr>\n",
       "      <th>8</th>\n",
       "      <td>4855</td>\n",
       "      <td>1974</td>\n",
       "      <td>1</td>\n",
       "      <td>0</td>\n",
       "    </tr>\n",
       "    <tr>\n",
       "      <th>9</th>\n",
       "      <td>5899</td>\n",
       "      <td>1950</td>\n",
       "      <td>1</td>\n",
       "      <td>1</td>\n",
       "    </tr>\n",
       "  </tbody>\n",
       "</table>\n",
       "</div>"
      ],
      "text/plain": [
       "     ID  Year_Birth  Kidhome  Teenhome\n",
       "0  5524        1957        0         0\n",
       "1  2174        1954        1         1\n",
       "2  4141        1965        0         0\n",
       "3  6182        1984        1         0\n",
       "4  5324        1981        1         0\n",
       "5  7446        1967        0         1\n",
       "6   965        1971        0         1\n",
       "7  6177        1985        1         0\n",
       "8  4855        1974        1         0\n",
       "9  5899        1950        1         1"
      ]
     },
     "execution_count": 3,
     "metadata": {},
     "output_type": "execute_result"
    }
   ],
   "source": [
    "marketing_data.head(10)"
   ]
  },
  {
   "cell_type": "code",
   "execution_count": 4,
   "id": "7fff02c5-a341-43a9-a2e2-9cf7d557c2ba",
   "metadata": {},
   "outputs": [
    {
     "data": {
      "text/plain": [
       "(2240, 4)"
      ]
     },
     "execution_count": 4,
     "metadata": {},
     "output_type": "execute_result"
    }
   ],
   "source": [
    "marketing_data.shape"
   ]
  },
  {
   "cell_type": "markdown",
   "id": "38c37407-85eb-4c52-b45f-585cb5b1c198",
   "metadata": {},
   "source": [
    "## Replace the values in Teenhome with has teen and has no teen:"
   ]
  },
  {
   "cell_type": "code",
   "execution_count": 5,
   "id": "0f01e24c-89d7-4963-b4aa-6a7be300d686",
   "metadata": {},
   "outputs": [],
   "source": [
    "marketing_data['Teenhome_replaced'] = marketing_data['Teenhome'].replace([0,1,2], ['has no teen', 'has teen', 'has teen'])"
   ]
  },
  {
   "cell_type": "markdown",
   "id": "699e048d-a7de-47cd-8fb2-75c80ab9d15d",
   "metadata": {},
   "source": [
    "## Inspecting the output"
   ]
  },
  {
   "cell_type": "code",
   "execution_count": 7,
   "id": "4d5050e8-196c-4db3-ab70-58b267a3172a",
   "metadata": {},
   "outputs": [
    {
     "data": {
      "text/html": [
       "<div>\n",
       "<style scoped>\n",
       "    .dataframe tbody tr th:only-of-type {\n",
       "        vertical-align: middle;\n",
       "    }\n",
       "\n",
       "    .dataframe tbody tr th {\n",
       "        vertical-align: top;\n",
       "    }\n",
       "\n",
       "    .dataframe thead th {\n",
       "        text-align: right;\n",
       "    }\n",
       "</style>\n",
       "<table border=\"1\" class=\"dataframe\">\n",
       "  <thead>\n",
       "    <tr style=\"text-align: right;\">\n",
       "      <th></th>\n",
       "      <th>Teenhome</th>\n",
       "      <th>Teenhome_replaced</th>\n",
       "    </tr>\n",
       "  </thead>\n",
       "  <tbody>\n",
       "    <tr>\n",
       "      <th>0</th>\n",
       "      <td>0</td>\n",
       "      <td>has no teen</td>\n",
       "    </tr>\n",
       "    <tr>\n",
       "      <th>1</th>\n",
       "      <td>1</td>\n",
       "      <td>has teen</td>\n",
       "    </tr>\n",
       "    <tr>\n",
       "      <th>2</th>\n",
       "      <td>0</td>\n",
       "      <td>has no teen</td>\n",
       "    </tr>\n",
       "    <tr>\n",
       "      <th>3</th>\n",
       "      <td>0</td>\n",
       "      <td>has no teen</td>\n",
       "    </tr>\n",
       "    <tr>\n",
       "      <th>4</th>\n",
       "      <td>0</td>\n",
       "      <td>has no teen</td>\n",
       "    </tr>\n",
       "    <tr>\n",
       "      <th>5</th>\n",
       "      <td>1</td>\n",
       "      <td>has teen</td>\n",
       "    </tr>\n",
       "    <tr>\n",
       "      <th>6</th>\n",
       "      <td>1</td>\n",
       "      <td>has teen</td>\n",
       "    </tr>\n",
       "    <tr>\n",
       "      <th>7</th>\n",
       "      <td>0</td>\n",
       "      <td>has no teen</td>\n",
       "    </tr>\n",
       "    <tr>\n",
       "      <th>8</th>\n",
       "      <td>0</td>\n",
       "      <td>has no teen</td>\n",
       "    </tr>\n",
       "    <tr>\n",
       "      <th>9</th>\n",
       "      <td>1</td>\n",
       "      <td>has teen</td>\n",
       "    </tr>\n",
       "  </tbody>\n",
       "</table>\n",
       "</div>"
      ],
      "text/plain": [
       "   Teenhome Teenhome_replaced\n",
       "0         0       has no teen\n",
       "1         1          has teen\n",
       "2         0       has no teen\n",
       "3         0       has no teen\n",
       "4         0       has no teen\n",
       "5         1          has teen\n",
       "6         1          has teen\n",
       "7         0       has no teen\n",
       "8         0       has no teen\n",
       "9         1          has teen"
      ]
     },
     "execution_count": 7,
     "metadata": {},
     "output_type": "execute_result"
    }
   ],
   "source": [
    "marketing_data[['Teenhome', 'Teenhome_replaced']].head(10)"
   ]
  },
  {
   "cell_type": "code",
   "execution_count": null,
   "id": "7a4b7948-6d69-4aff-bb06-52691c6b6fb2",
   "metadata": {},
   "outputs": [],
   "source": []
  }
 ],
 "metadata": {
  "kernelspec": {
   "display_name": "Python 3 (ipykernel)",
   "language": "python",
   "name": "python3"
  },
  "language_info": {
   "codemirror_mode": {
    "name": "ipython",
    "version": 3
   },
   "file_extension": ".py",
   "mimetype": "text/x-python",
   "name": "python",
   "nbconvert_exporter": "python",
   "pygments_lexer": "ipython3",
   "version": "3.11.3"
  }
 },
 "nbformat": 4,
 "nbformat_minor": 5
}
