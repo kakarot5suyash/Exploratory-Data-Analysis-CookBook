{
 "cells": [
  {
   "cell_type": "markdown",
   "id": "f87eecb6-cd8f-496f-800c-ad594988ead7",
   "metadata": {},
   "source": [
    "# Concatenating Data using datasets"
   ]
  },
  {
   "cell_type": "markdown",
   "id": "5ad145be-59f5-4f77-8bde-58e98d9b3314",
   "metadata": {},
   "source": [
    "## Importing pandas "
   ]
  },
  {
   "cell_type": "code",
   "execution_count": 1,
   "id": "108fa591-3c7d-4629-ab48-f968be9038e1",
   "metadata": {},
   "outputs": [],
   "source": [
    "import pandas as pd"
   ]
  },
  {
   "cell_type": "markdown",
   "id": "cbd564d2-04ff-4a8e-b771-4a40aa9019f2",
   "metadata": {},
   "source": [
    "## Loading Datasets\n"
   ]
  },
  {
   "cell_type": "code",
   "execution_count": 3,
   "id": "78c998bc-5184-42da-b7ad-fb6b5b22b563",
   "metadata": {},
   "outputs": [],
   "source": [
    "marketing_sample1 = pd.read_csv('Data/marketing_campaign_concat1.csv')\n",
    "marketing_sample2 = pd.read_csv('Data/marketing_campaign_concat2.csv')"
   ]
  },
  {
   "cell_type": "code",
   "execution_count": 4,
   "id": "79be6c23-168c-4f15-93ca-7cac28124b1c",
   "metadata": {},
   "outputs": [
    {
     "data": {
      "text/html": [
       "<div>\n",
       "<style scoped>\n",
       "    .dataframe tbody tr th:only-of-type {\n",
       "        vertical-align: middle;\n",
       "    }\n",
       "\n",
       "    .dataframe tbody tr th {\n",
       "        vertical-align: top;\n",
       "    }\n",
       "\n",
       "    .dataframe thead th {\n",
       "        text-align: right;\n",
       "    }\n",
       "</style>\n",
       "<table border=\"1\" class=\"dataframe\">\n",
       "  <thead>\n",
       "    <tr style=\"text-align: right;\">\n",
       "      <th></th>\n",
       "      <th>0</th>\n",
       "      <th>1</th>\n",
       "      <th>2</th>\n",
       "      <th>3</th>\n",
       "      <th>4</th>\n",
       "      <th>5</th>\n",
       "      <th>6</th>\n",
       "      <th>7</th>\n",
       "      <th>8</th>\n",
       "      <th>9</th>\n",
       "    </tr>\n",
       "  </thead>\n",
       "  <tbody>\n",
       "    <tr>\n",
       "      <th>ID</th>\n",
       "      <td>5524</td>\n",
       "      <td>2174</td>\n",
       "      <td>4141</td>\n",
       "      <td>6182</td>\n",
       "      <td>5324</td>\n",
       "      <td>7446</td>\n",
       "      <td>965</td>\n",
       "      <td>6177</td>\n",
       "      <td>4855</td>\n",
       "      <td>5899</td>\n",
       "    </tr>\n",
       "    <tr>\n",
       "      <th>Year_Birth</th>\n",
       "      <td>1957</td>\n",
       "      <td>1954</td>\n",
       "      <td>1965</td>\n",
       "      <td>1984</td>\n",
       "      <td>1981</td>\n",
       "      <td>1967</td>\n",
       "      <td>1971</td>\n",
       "      <td>1985</td>\n",
       "      <td>1974</td>\n",
       "      <td>1950</td>\n",
       "    </tr>\n",
       "    <tr>\n",
       "      <th>Education</th>\n",
       "      <td>Graduation</td>\n",
       "      <td>Graduation</td>\n",
       "      <td>Graduation</td>\n",
       "      <td>Graduation</td>\n",
       "      <td>PhD</td>\n",
       "      <td>Master</td>\n",
       "      <td>Graduation</td>\n",
       "      <td>PhD</td>\n",
       "      <td>PhD</td>\n",
       "      <td>PhD</td>\n",
       "    </tr>\n",
       "    <tr>\n",
       "      <th>Marital_Status</th>\n",
       "      <td>Single</td>\n",
       "      <td>Single</td>\n",
       "      <td>Together</td>\n",
       "      <td>Together</td>\n",
       "      <td>Married</td>\n",
       "      <td>Together</td>\n",
       "      <td>Divorced</td>\n",
       "      <td>Married</td>\n",
       "      <td>Together</td>\n",
       "      <td>Together</td>\n",
       "    </tr>\n",
       "    <tr>\n",
       "      <th>Income</th>\n",
       "      <td>58138.0</td>\n",
       "      <td>46344.0</td>\n",
       "      <td>71613.0</td>\n",
       "      <td>26646.0</td>\n",
       "      <td>58293.0</td>\n",
       "      <td>62513.0</td>\n",
       "      <td>55635.0</td>\n",
       "      <td>33454.0</td>\n",
       "      <td>30351.0</td>\n",
       "      <td>5648.0</td>\n",
       "    </tr>\n",
       "  </tbody>\n",
       "</table>\n",
       "</div>"
      ],
      "text/plain": [
       "                         0           1           2           3        4  \\\n",
       "ID                    5524        2174        4141        6182     5324   \n",
       "Year_Birth            1957        1954        1965        1984     1981   \n",
       "Education       Graduation  Graduation  Graduation  Graduation      PhD   \n",
       "Marital_Status      Single      Single    Together    Together  Married   \n",
       "Income             58138.0     46344.0     71613.0     26646.0  58293.0   \n",
       "\n",
       "                       5           6        7         8         9  \n",
       "ID                  7446         965     6177      4855      5899  \n",
       "Year_Birth          1967        1971     1985      1974      1950  \n",
       "Education         Master  Graduation      PhD       PhD       PhD  \n",
       "Marital_Status  Together    Divorced  Married  Together  Together  \n",
       "Income           62513.0     55635.0  33454.0   30351.0    5648.0  "
      ]
     },
     "execution_count": 4,
     "metadata": {},
     "output_type": "execute_result"
    }
   ],
   "source": [
    "marketing_sample1.head(10).T"
   ]
  },
  {
   "cell_type": "code",
   "execution_count": 5,
   "id": "384bf733-1df2-44fe-93f2-88b2a075913c",
   "metadata": {},
   "outputs": [
    {
     "data": {
      "text/html": [
       "<div>\n",
       "<style scoped>\n",
       "    .dataframe tbody tr th:only-of-type {\n",
       "        vertical-align: middle;\n",
       "    }\n",
       "\n",
       "    .dataframe tbody tr th {\n",
       "        vertical-align: top;\n",
       "    }\n",
       "\n",
       "    .dataframe thead th {\n",
       "        text-align: right;\n",
       "    }\n",
       "</style>\n",
       "<table border=\"1\" class=\"dataframe\">\n",
       "  <thead>\n",
       "    <tr style=\"text-align: right;\">\n",
       "      <th></th>\n",
       "      <th>2230</th>\n",
       "      <th>2231</th>\n",
       "      <th>2232</th>\n",
       "      <th>2233</th>\n",
       "      <th>2234</th>\n",
       "      <th>2235</th>\n",
       "      <th>2236</th>\n",
       "      <th>2237</th>\n",
       "      <th>2238</th>\n",
       "      <th>2239</th>\n",
       "    </tr>\n",
       "  </thead>\n",
       "  <tbody>\n",
       "    <tr>\n",
       "      <th>NumDealsPurchases</th>\n",
       "      <td>3</td>\n",
       "      <td>2</td>\n",
       "      <td>1</td>\n",
       "      <td>4</td>\n",
       "      <td>1</td>\n",
       "      <td>2</td>\n",
       "      <td>7</td>\n",
       "      <td>1</td>\n",
       "      <td>2</td>\n",
       "      <td>3</td>\n",
       "    </tr>\n",
       "    <tr>\n",
       "      <th>NumWebPurchases</th>\n",
       "      <td>3</td>\n",
       "      <td>9</td>\n",
       "      <td>0</td>\n",
       "      <td>3</td>\n",
       "      <td>1</td>\n",
       "      <td>9</td>\n",
       "      <td>8</td>\n",
       "      <td>2</td>\n",
       "      <td>6</td>\n",
       "      <td>3</td>\n",
       "    </tr>\n",
       "    <tr>\n",
       "      <th>NumCatalogPurchases</th>\n",
       "      <td>1</td>\n",
       "      <td>4</td>\n",
       "      <td>0</td>\n",
       "      <td>1</td>\n",
       "      <td>0</td>\n",
       "      <td>3</td>\n",
       "      <td>2</td>\n",
       "      <td>3</td>\n",
       "      <td>5</td>\n",
       "      <td>1</td>\n",
       "    </tr>\n",
       "    <tr>\n",
       "      <th>NumStorePurchases</th>\n",
       "      <td>2</td>\n",
       "      <td>12</td>\n",
       "      <td>3</td>\n",
       "      <td>3</td>\n",
       "      <td>2</td>\n",
       "      <td>4</td>\n",
       "      <td>5</td>\n",
       "      <td>13</td>\n",
       "      <td>10</td>\n",
       "      <td>4</td>\n",
       "    </tr>\n",
       "    <tr>\n",
       "      <th>NumWebVisitsMonth</th>\n",
       "      <td>9</td>\n",
       "      <td>8</td>\n",
       "      <td>4</td>\n",
       "      <td>6</td>\n",
       "      <td>7</td>\n",
       "      <td>5</td>\n",
       "      <td>7</td>\n",
       "      <td>6</td>\n",
       "      <td>3</td>\n",
       "      <td>7</td>\n",
       "    </tr>\n",
       "  </tbody>\n",
       "</table>\n",
       "</div>"
      ],
      "text/plain": [
       "                     2230  2231  2232  2233  2234  2235  2236  2237  2238  \\\n",
       "NumDealsPurchases       3     2     1     4     1     2     7     1     2   \n",
       "NumWebPurchases         3     9     0     3     1     9     8     2     6   \n",
       "NumCatalogPurchases     1     4     0     1     0     3     2     3     5   \n",
       "NumStorePurchases       2    12     3     3     2     4     5    13    10   \n",
       "NumWebVisitsMonth       9     8     4     6     7     5     7     6     3   \n",
       "\n",
       "                     2239  \n",
       "NumDealsPurchases       3  \n",
       "NumWebPurchases         3  \n",
       "NumCatalogPurchases     1  \n",
       "NumStorePurchases       4  \n",
       "NumWebVisitsMonth       7  "
      ]
     },
     "execution_count": 5,
     "metadata": {},
     "output_type": "execute_result"
    }
   ],
   "source": [
    "marketing_sample2.tail(10).T"
   ]
  },
  {
   "cell_type": "code",
   "execution_count": 6,
   "id": "8fafcbe0-0a6c-4009-a614-52127aabbe87",
   "metadata": {},
   "outputs": [
    {
     "data": {
      "text/plain": [
       "(2240, 5)"
      ]
     },
     "execution_count": 6,
     "metadata": {},
     "output_type": "execute_result"
    }
   ],
   "source": [
    "marketing_sample1.shape"
   ]
  },
  {
   "cell_type": "code",
   "execution_count": 7,
   "id": "6d960f47-a19e-4e4e-abc1-b6b3931b4d9d",
   "metadata": {},
   "outputs": [
    {
     "data": {
      "text/plain": [
       "(2240, 5)"
      ]
     },
     "execution_count": 7,
     "metadata": {},
     "output_type": "execute_result"
    }
   ],
   "source": [
    "marketing_sample2.shape"
   ]
  },
  {
   "cell_type": "code",
   "execution_count": 8,
   "id": "4ff8a1ca-255f-439c-989b-a37d5af74f77",
   "metadata": {},
   "outputs": [
    {
     "data": {
      "text/plain": [
       "ID                  int64\n",
       "Year_Birth          int64\n",
       "Education          object\n",
       "Marital_Status     object\n",
       "Income            float64\n",
       "dtype: object"
      ]
     },
     "execution_count": 8,
     "metadata": {},
     "output_type": "execute_result"
    }
   ],
   "source": [
    "marketing_sample1.dtypes\n"
   ]
  },
  {
   "cell_type": "code",
   "execution_count": 9,
   "id": "8163036e-9cbf-4974-ae4e-b170f5130981",
   "metadata": {},
   "outputs": [
    {
     "data": {
      "text/plain": [
       "NumDealsPurchases      int64\n",
       "NumWebPurchases        int64\n",
       "NumCatalogPurchases    int64\n",
       "NumStorePurchases      int64\n",
       "NumWebVisitsMonth      int64\n",
       "dtype: object"
      ]
     },
     "execution_count": 9,
     "metadata": {},
     "output_type": "execute_result"
    }
   ],
   "source": [
    "marketing_sample2.dtypes"
   ]
  },
  {
   "cell_type": "markdown",
   "id": "3a251894-a191-47a1-8ee6-84fa8dde2401",
   "metadata": {},
   "source": [
    "## Concatenating datasets using concat using axis 1 to combine columns method"
   ]
  },
  {
   "cell_type": "code",
   "execution_count": 14,
   "id": "eb74ba77-d40b-4178-aef3-727fc2b1f095",
   "metadata": {},
   "outputs": [],
   "source": [
    "concatenated_data = pd.concat([marketing_sample1, marketing_sample2], axis = 1)"
   ]
  },
  {
   "cell_type": "code",
   "execution_count": 15,
   "id": "5028f9b0-19de-4bfa-80e5-220341bc2081",
   "metadata": {},
   "outputs": [
    {
     "data": {
      "text/html": [
       "<div>\n",
       "<style scoped>\n",
       "    .dataframe tbody tr th:only-of-type {\n",
       "        vertical-align: middle;\n",
       "    }\n",
       "\n",
       "    .dataframe tbody tr th {\n",
       "        vertical-align: top;\n",
       "    }\n",
       "\n",
       "    .dataframe thead th {\n",
       "        text-align: right;\n",
       "    }\n",
       "</style>\n",
       "<table border=\"1\" class=\"dataframe\">\n",
       "  <thead>\n",
       "    <tr style=\"text-align: right;\">\n",
       "      <th></th>\n",
       "      <th>0</th>\n",
       "      <th>1</th>\n",
       "      <th>2</th>\n",
       "      <th>3</th>\n",
       "      <th>4</th>\n",
       "      <th>5</th>\n",
       "      <th>6</th>\n",
       "      <th>7</th>\n",
       "      <th>8</th>\n",
       "      <th>9</th>\n",
       "    </tr>\n",
       "  </thead>\n",
       "  <tbody>\n",
       "    <tr>\n",
       "      <th>ID</th>\n",
       "      <td>5524</td>\n",
       "      <td>2174</td>\n",
       "      <td>4141</td>\n",
       "      <td>6182</td>\n",
       "      <td>5324</td>\n",
       "      <td>7446</td>\n",
       "      <td>965</td>\n",
       "      <td>6177</td>\n",
       "      <td>4855</td>\n",
       "      <td>5899</td>\n",
       "    </tr>\n",
       "    <tr>\n",
       "      <th>Year_Birth</th>\n",
       "      <td>1957</td>\n",
       "      <td>1954</td>\n",
       "      <td>1965</td>\n",
       "      <td>1984</td>\n",
       "      <td>1981</td>\n",
       "      <td>1967</td>\n",
       "      <td>1971</td>\n",
       "      <td>1985</td>\n",
       "      <td>1974</td>\n",
       "      <td>1950</td>\n",
       "    </tr>\n",
       "    <tr>\n",
       "      <th>Education</th>\n",
       "      <td>Graduation</td>\n",
       "      <td>Graduation</td>\n",
       "      <td>Graduation</td>\n",
       "      <td>Graduation</td>\n",
       "      <td>PhD</td>\n",
       "      <td>Master</td>\n",
       "      <td>Graduation</td>\n",
       "      <td>PhD</td>\n",
       "      <td>PhD</td>\n",
       "      <td>PhD</td>\n",
       "    </tr>\n",
       "    <tr>\n",
       "      <th>Marital_Status</th>\n",
       "      <td>Single</td>\n",
       "      <td>Single</td>\n",
       "      <td>Together</td>\n",
       "      <td>Together</td>\n",
       "      <td>Married</td>\n",
       "      <td>Together</td>\n",
       "      <td>Divorced</td>\n",
       "      <td>Married</td>\n",
       "      <td>Together</td>\n",
       "      <td>Together</td>\n",
       "    </tr>\n",
       "    <tr>\n",
       "      <th>Income</th>\n",
       "      <td>58138.0</td>\n",
       "      <td>46344.0</td>\n",
       "      <td>71613.0</td>\n",
       "      <td>26646.0</td>\n",
       "      <td>58293.0</td>\n",
       "      <td>62513.0</td>\n",
       "      <td>55635.0</td>\n",
       "      <td>33454.0</td>\n",
       "      <td>30351.0</td>\n",
       "      <td>5648.0</td>\n",
       "    </tr>\n",
       "    <tr>\n",
       "      <th>NumDealsPurchases</th>\n",
       "      <td>3</td>\n",
       "      <td>2</td>\n",
       "      <td>1</td>\n",
       "      <td>2</td>\n",
       "      <td>5</td>\n",
       "      <td>2</td>\n",
       "      <td>4</td>\n",
       "      <td>2</td>\n",
       "      <td>1</td>\n",
       "      <td>1</td>\n",
       "    </tr>\n",
       "    <tr>\n",
       "      <th>NumWebPurchases</th>\n",
       "      <td>8</td>\n",
       "      <td>1</td>\n",
       "      <td>8</td>\n",
       "      <td>2</td>\n",
       "      <td>5</td>\n",
       "      <td>6</td>\n",
       "      <td>7</td>\n",
       "      <td>4</td>\n",
       "      <td>3</td>\n",
       "      <td>1</td>\n",
       "    </tr>\n",
       "    <tr>\n",
       "      <th>NumCatalogPurchases</th>\n",
       "      <td>10</td>\n",
       "      <td>1</td>\n",
       "      <td>2</td>\n",
       "      <td>0</td>\n",
       "      <td>3</td>\n",
       "      <td>4</td>\n",
       "      <td>3</td>\n",
       "      <td>0</td>\n",
       "      <td>0</td>\n",
       "      <td>0</td>\n",
       "    </tr>\n",
       "    <tr>\n",
       "      <th>NumStorePurchases</th>\n",
       "      <td>4</td>\n",
       "      <td>2</td>\n",
       "      <td>10</td>\n",
       "      <td>4</td>\n",
       "      <td>6</td>\n",
       "      <td>10</td>\n",
       "      <td>7</td>\n",
       "      <td>4</td>\n",
       "      <td>2</td>\n",
       "      <td>0</td>\n",
       "    </tr>\n",
       "    <tr>\n",
       "      <th>NumWebVisitsMonth</th>\n",
       "      <td>7</td>\n",
       "      <td>5</td>\n",
       "      <td>4</td>\n",
       "      <td>6</td>\n",
       "      <td>5</td>\n",
       "      <td>6</td>\n",
       "      <td>6</td>\n",
       "      <td>8</td>\n",
       "      <td>9</td>\n",
       "      <td>20</td>\n",
       "    </tr>\n",
       "  </tbody>\n",
       "</table>\n",
       "</div>"
      ],
      "text/plain": [
       "                              0           1           2           3        4  \\\n",
       "ID                         5524        2174        4141        6182     5324   \n",
       "Year_Birth                 1957        1954        1965        1984     1981   \n",
       "Education            Graduation  Graduation  Graduation  Graduation      PhD   \n",
       "Marital_Status           Single      Single    Together    Together  Married   \n",
       "Income                  58138.0     46344.0     71613.0     26646.0  58293.0   \n",
       "NumDealsPurchases             3           2           1           2        5   \n",
       "NumWebPurchases               8           1           8           2        5   \n",
       "NumCatalogPurchases          10           1           2           0        3   \n",
       "NumStorePurchases             4           2          10           4        6   \n",
       "NumWebVisitsMonth             7           5           4           6        5   \n",
       "\n",
       "                            5           6        7         8         9  \n",
       "ID                       7446         965     6177      4855      5899  \n",
       "Year_Birth               1967        1971     1985      1974      1950  \n",
       "Education              Master  Graduation      PhD       PhD       PhD  \n",
       "Marital_Status       Together    Divorced  Married  Together  Together  \n",
       "Income                62513.0     55635.0  33454.0   30351.0    5648.0  \n",
       "NumDealsPurchases           2           4        2         1         1  \n",
       "NumWebPurchases             6           7        4         3         1  \n",
       "NumCatalogPurchases         4           3        0         0         0  \n",
       "NumStorePurchases          10           7        4         2         0  \n",
       "NumWebVisitsMonth           6           6        8         9        20  "
      ]
     },
     "execution_count": 15,
     "metadata": {},
     "output_type": "execute_result"
    }
   ],
   "source": [
    "concatenated_data.head(10).T"
   ]
  },
  {
   "cell_type": "code",
   "execution_count": 16,
   "id": "fd3d341f-f83a-4de6-88bc-2a6c45fc0bd1",
   "metadata": {},
   "outputs": [
    {
     "data": {
      "text/plain": [
       "(2240, 10)"
      ]
     },
     "execution_count": 16,
     "metadata": {},
     "output_type": "execute_result"
    }
   ],
   "source": [
    "concatenated_data.shape"
   ]
  }
 ],
 "metadata": {
  "kernelspec": {
   "display_name": "Python 3 (ipykernel)",
   "language": "python",
   "name": "python3"
  },
  "language_info": {
   "codemirror_mode": {
    "name": "ipython",
    "version": 3
   },
   "file_extension": ".py",
   "mimetype": "text/x-python",
   "name": "python",
   "nbconvert_exporter": "python",
   "pygments_lexer": "ipython3",
   "version": "3.11.3"
  }
 },
 "nbformat": 4,
 "nbformat_minor": 5
}
