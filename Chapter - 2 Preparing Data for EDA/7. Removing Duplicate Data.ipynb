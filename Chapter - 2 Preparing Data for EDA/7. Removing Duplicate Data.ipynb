{
 "cells": [
  {
   "cell_type": "markdown",
   "id": "420c65b9-aaa3-48fa-86dd-96e2e0fb201d",
   "metadata": {},
   "source": [
    "# Removing Duplicate data in a dataset"
   ]
  },
  {
   "cell_type": "markdown",
   "id": "d3e032ad-df23-4c0f-99b0-d5066671dd8d",
   "metadata": {},
   "source": [
    "## importing pandas"
   ]
  },
  {
   "cell_type": "code",
   "execution_count": 2,
   "id": "8e13e699-67d3-46f5-82e5-a4e6b14170d0",
   "metadata": {},
   "outputs": [],
   "source": [
    "import pandas as pd"
   ]
  },
  {
   "cell_type": "markdown",
   "id": "5ca2b9cd-37e7-46cf-8e42-822a0d756976",
   "metadata": {},
   "source": [
    "## Loading dataset and including relevant columns"
   ]
  },
  {
   "cell_type": "code",
   "execution_count": 3,
   "id": "93e16d21-48e7-4872-9101-2e23d1be6de4",
   "metadata": {},
   "outputs": [],
   "source": [
    "marketing_data = pd.read_csv('Data/marketing_campaign.csv')"
   ]
  },
  {
   "cell_type": "code",
   "execution_count": 4,
   "id": "56067d49-285b-4420-84b0-b3bae42f77ff",
   "metadata": {},
   "outputs": [],
   "source": [
    "marketing_data = marketing_data[['Education','Marital_Status','Kidhome', 'Teenhome']]"
   ]
  },
  {
   "cell_type": "code",
   "execution_count": 5,
   "id": "189a3fca-3514-4afa-a5dd-4e882381ad0a",
   "metadata": {},
   "outputs": [
    {
     "data": {
      "text/html": [
       "<div>\n",
       "<style scoped>\n",
       "    .dataframe tbody tr th:only-of-type {\n",
       "        vertical-align: middle;\n",
       "    }\n",
       "\n",
       "    .dataframe tbody tr th {\n",
       "        vertical-align: top;\n",
       "    }\n",
       "\n",
       "    .dataframe thead th {\n",
       "        text-align: right;\n",
       "    }\n",
       "</style>\n",
       "<table border=\"1\" class=\"dataframe\">\n",
       "  <thead>\n",
       "    <tr style=\"text-align: right;\">\n",
       "      <th></th>\n",
       "      <th>Education</th>\n",
       "      <th>Marital_Status</th>\n",
       "      <th>Kidhome</th>\n",
       "      <th>Teenhome</th>\n",
       "    </tr>\n",
       "  </thead>\n",
       "  <tbody>\n",
       "    <tr>\n",
       "      <th>0</th>\n",
       "      <td>Graduation</td>\n",
       "      <td>Single</td>\n",
       "      <td>0</td>\n",
       "      <td>0</td>\n",
       "    </tr>\n",
       "    <tr>\n",
       "      <th>1</th>\n",
       "      <td>Graduation</td>\n",
       "      <td>Single</td>\n",
       "      <td>1</td>\n",
       "      <td>1</td>\n",
       "    </tr>\n",
       "    <tr>\n",
       "      <th>2</th>\n",
       "      <td>Graduation</td>\n",
       "      <td>Together</td>\n",
       "      <td>0</td>\n",
       "      <td>0</td>\n",
       "    </tr>\n",
       "    <tr>\n",
       "      <th>3</th>\n",
       "      <td>Graduation</td>\n",
       "      <td>Together</td>\n",
       "      <td>1</td>\n",
       "      <td>0</td>\n",
       "    </tr>\n",
       "    <tr>\n",
       "      <th>4</th>\n",
       "      <td>PhD</td>\n",
       "      <td>Married</td>\n",
       "      <td>1</td>\n",
       "      <td>0</td>\n",
       "    </tr>\n",
       "    <tr>\n",
       "      <th>5</th>\n",
       "      <td>Master</td>\n",
       "      <td>Together</td>\n",
       "      <td>0</td>\n",
       "      <td>1</td>\n",
       "    </tr>\n",
       "    <tr>\n",
       "      <th>6</th>\n",
       "      <td>Graduation</td>\n",
       "      <td>Divorced</td>\n",
       "      <td>0</td>\n",
       "      <td>1</td>\n",
       "    </tr>\n",
       "    <tr>\n",
       "      <th>7</th>\n",
       "      <td>PhD</td>\n",
       "      <td>Married</td>\n",
       "      <td>1</td>\n",
       "      <td>0</td>\n",
       "    </tr>\n",
       "    <tr>\n",
       "      <th>8</th>\n",
       "      <td>PhD</td>\n",
       "      <td>Together</td>\n",
       "      <td>1</td>\n",
       "      <td>0</td>\n",
       "    </tr>\n",
       "    <tr>\n",
       "      <th>9</th>\n",
       "      <td>PhD</td>\n",
       "      <td>Together</td>\n",
       "      <td>1</td>\n",
       "      <td>1</td>\n",
       "    </tr>\n",
       "  </tbody>\n",
       "</table>\n",
       "</div>"
      ],
      "text/plain": [
       "    Education Marital_Status  Kidhome  Teenhome\n",
       "0  Graduation         Single        0         0\n",
       "1  Graduation         Single        1         1\n",
       "2  Graduation       Together        0         0\n",
       "3  Graduation       Together        1         0\n",
       "4         PhD        Married        1         0\n",
       "5      Master       Together        0         1\n",
       "6  Graduation       Divorced        0         1\n",
       "7         PhD        Married        1         0\n",
       "8         PhD       Together        1         0\n",
       "9         PhD       Together        1         1"
      ]
     },
     "execution_count": 5,
     "metadata": {},
     "output_type": "execute_result"
    }
   ],
   "source": [
    "marketing_data.head(10)"
   ]
  },
  {
   "cell_type": "code",
   "execution_count": 7,
   "id": "235a687e-ceea-451f-9535-4ebb6d55cfdc",
   "metadata": {},
   "outputs": [
    {
     "data": {
      "text/plain": [
       "(2240, 4)"
      ]
     },
     "execution_count": 7,
     "metadata": {},
     "output_type": "execute_result"
    }
   ],
   "source": [
    "marketing_data.shape"
   ]
  },
  {
   "cell_type": "markdown",
   "id": "0eddfe57-75fd-4fb8-bb93-fce08eef9cb5",
   "metadata": {},
   "source": [
    "## Remove duplicates across the four columns in dataset:"
   ]
  },
  {
   "cell_type": "code",
   "execution_count": 8,
   "id": "5ceac471-0a51-4af1-8330-97459399924e",
   "metadata": {},
   "outputs": [],
   "source": [
    "marketing_data_duplicate = marketing_data.drop_duplicates()"
   ]
  },
  {
   "cell_type": "code",
   "execution_count": 9,
   "id": "5e23a6b3-8f3d-40cc-a7d3-4d44fb736018",
   "metadata": {},
   "outputs": [
    {
     "data": {
      "text/html": [
       "<div>\n",
       "<style scoped>\n",
       "    .dataframe tbody tr th:only-of-type {\n",
       "        vertical-align: middle;\n",
       "    }\n",
       "\n",
       "    .dataframe tbody tr th {\n",
       "        vertical-align: top;\n",
       "    }\n",
       "\n",
       "    .dataframe thead th {\n",
       "        text-align: right;\n",
       "    }\n",
       "</style>\n",
       "<table border=\"1\" class=\"dataframe\">\n",
       "  <thead>\n",
       "    <tr style=\"text-align: right;\">\n",
       "      <th></th>\n",
       "      <th>Education</th>\n",
       "      <th>Marital_Status</th>\n",
       "      <th>Kidhome</th>\n",
       "      <th>Teenhome</th>\n",
       "    </tr>\n",
       "  </thead>\n",
       "  <tbody>\n",
       "    <tr>\n",
       "      <th>0</th>\n",
       "      <td>Graduation</td>\n",
       "      <td>Single</td>\n",
       "      <td>0</td>\n",
       "      <td>0</td>\n",
       "    </tr>\n",
       "    <tr>\n",
       "      <th>1</th>\n",
       "      <td>Graduation</td>\n",
       "      <td>Single</td>\n",
       "      <td>1</td>\n",
       "      <td>1</td>\n",
       "    </tr>\n",
       "    <tr>\n",
       "      <th>2</th>\n",
       "      <td>Graduation</td>\n",
       "      <td>Together</td>\n",
       "      <td>0</td>\n",
       "      <td>0</td>\n",
       "    </tr>\n",
       "    <tr>\n",
       "      <th>3</th>\n",
       "      <td>Graduation</td>\n",
       "      <td>Together</td>\n",
       "      <td>1</td>\n",
       "      <td>0</td>\n",
       "    </tr>\n",
       "    <tr>\n",
       "      <th>4</th>\n",
       "      <td>PhD</td>\n",
       "      <td>Married</td>\n",
       "      <td>1</td>\n",
       "      <td>0</td>\n",
       "    </tr>\n",
       "    <tr>\n",
       "      <th>5</th>\n",
       "      <td>Master</td>\n",
       "      <td>Together</td>\n",
       "      <td>0</td>\n",
       "      <td>1</td>\n",
       "    </tr>\n",
       "    <tr>\n",
       "      <th>6</th>\n",
       "      <td>Graduation</td>\n",
       "      <td>Divorced</td>\n",
       "      <td>0</td>\n",
       "      <td>1</td>\n",
       "    </tr>\n",
       "    <tr>\n",
       "      <th>8</th>\n",
       "      <td>PhD</td>\n",
       "      <td>Together</td>\n",
       "      <td>1</td>\n",
       "      <td>0</td>\n",
       "    </tr>\n",
       "    <tr>\n",
       "      <th>9</th>\n",
       "      <td>PhD</td>\n",
       "      <td>Together</td>\n",
       "      <td>1</td>\n",
       "      <td>1</td>\n",
       "    </tr>\n",
       "    <tr>\n",
       "      <th>10</th>\n",
       "      <td>Graduation</td>\n",
       "      <td>Married</td>\n",
       "      <td>1</td>\n",
       "      <td>0</td>\n",
       "    </tr>\n",
       "  </tbody>\n",
       "</table>\n",
       "</div>"
      ],
      "text/plain": [
       "     Education Marital_Status  Kidhome  Teenhome\n",
       "0   Graduation         Single        0         0\n",
       "1   Graduation         Single        1         1\n",
       "2   Graduation       Together        0         0\n",
       "3   Graduation       Together        1         0\n",
       "4          PhD        Married        1         0\n",
       "5       Master       Together        0         1\n",
       "6   Graduation       Divorced        0         1\n",
       "8          PhD       Together        1         0\n",
       "9          PhD       Together        1         1\n",
       "10  Graduation        Married        1         0"
      ]
     },
     "execution_count": 9,
     "metadata": {},
     "output_type": "execute_result"
    }
   ],
   "source": [
    "marketing_data_duplicate.head(10)"
   ]
  },
  {
   "cell_type": "code",
   "execution_count": 10,
   "id": "8a9a61ef-8e00-4e1d-9bd9-144278bf89ef",
   "metadata": {},
   "outputs": [
    {
     "data": {
      "text/plain": [
       "(135, 4)"
      ]
     },
     "execution_count": 10,
     "metadata": {},
     "output_type": "execute_result"
    }
   ],
   "source": [
    "marketing_data_duplicate.shape"
   ]
  },
  {
   "cell_type": "code",
   "execution_count": 11,
   "id": "40ac6f32-e994-4a01-84b6-4c60d2d33f2e",
   "metadata": {},
   "outputs": [
    {
     "data": {
      "text/plain": [
       "(2240, 4)"
      ]
     },
     "execution_count": 11,
     "metadata": {},
     "output_type": "execute_result"
    }
   ],
   "source": [
    "marketing_data.shape"
   ]
  },
  {
   "cell_type": "code",
   "execution_count": null,
   "id": "46a36a8a-6868-4bb4-b445-8783df5feef3",
   "metadata": {},
   "outputs": [],
   "source": []
  }
 ],
 "metadata": {
  "kernelspec": {
   "display_name": "Python 3 (ipykernel)",
   "language": "python",
   "name": "python3"
  },
  "language_info": {
   "codemirror_mode": {
    "name": "ipython",
    "version": 3
   },
   "file_extension": ".py",
   "mimetype": "text/x-python",
   "name": "python",
   "nbconvert_exporter": "python",
   "pygments_lexer": "ipython3",
   "version": "3.11.3"
  }
 },
 "nbformat": 4,
 "nbformat_minor": 5
}
