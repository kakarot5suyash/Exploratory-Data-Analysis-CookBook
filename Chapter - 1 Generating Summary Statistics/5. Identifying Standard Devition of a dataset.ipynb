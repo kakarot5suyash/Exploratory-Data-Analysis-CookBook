{
 "cells": [
  {
   "cell_type": "markdown",
   "id": "6a4163f6-ced3-4509-a0f0-a77895e26d06",
   "metadata": {},
   "source": [
    "# Determining standard Deviation of covid dataset"
   ]
  },
  {
   "cell_type": "markdown",
   "id": "361965df-b625-4600-992b-06960510363d",
   "metadata": {},
   "source": [
    "## Importing numpy and pandas"
   ]
  },
  {
   "cell_type": "code",
   "execution_count": 1,
   "id": "11c8812b-7c4b-41d6-b3c7-81b73ecaaa18",
   "metadata": {},
   "outputs": [],
   "source": [
    "import numpy as np\n",
    "import pandas as pd"
   ]
  },
  {
   "cell_type": "markdown",
   "id": "2424a5c0-8868-4726-b902-4b64ef613f9b",
   "metadata": {},
   "source": [
    "## Loading dataset and including relevant columns"
   ]
  },
  {
   "cell_type": "code",
   "execution_count": 2,
   "id": "6127b61c-cea5-4428-90d5-e5596752660c",
   "metadata": {},
   "outputs": [],
   "source": [
    "covid_data = pd.read_csv('Data/covid-data.csv')\n",
    "covid_data = covid_data[['iso_code', 'continent', 'location', 'new_cases', 'total_cases']]"
   ]
  },
  {
   "cell_type": "markdown",
   "id": "98833e43-0840-4eef-b2f1-9915220678bc",
   "metadata": {},
   "source": [
    "## Getting standard deviation using covid dataset"
   ]
  },
  {
   "cell_type": "code",
   "execution_count": 4,
   "id": "032f4370-ba06-4148-84a5-dc9150468f16",
   "metadata": {},
   "outputs": [],
   "source": [
    "std_data = np.std(covid_data['new_cases'])"
   ]
  },
  {
   "cell_type": "code",
   "execution_count": 5,
   "id": "d6c729b8-aba0-4298-8238-cc06e1b26237",
   "metadata": {},
   "outputs": [
    {
     "data": {
      "text/plain": [
       "21244.338444114834"
      ]
     },
     "execution_count": 5,
     "metadata": {},
     "output_type": "execute_result"
    }
   ],
   "source": [
    "std_data"
   ]
  },
  {
   "cell_type": "code",
   "execution_count": null,
   "id": "e94f6a1b-e3b4-439f-bc1f-cbaa1f335ba3",
   "metadata": {},
   "outputs": [],
   "source": []
  }
 ],
 "metadata": {
  "kernelspec": {
   "display_name": "Python 3 (ipykernel)",
   "language": "python",
   "name": "python3"
  },
  "language_info": {
   "codemirror_mode": {
    "name": "ipython",
    "version": 3
   },
   "file_extension": ".py",
   "mimetype": "text/x-python",
   "name": "python",
   "nbconvert_exporter": "python",
   "pygments_lexer": "ipython3",
   "version": "3.11.3"
  }
 },
 "nbformat": 4,
 "nbformat_minor": 5
}
