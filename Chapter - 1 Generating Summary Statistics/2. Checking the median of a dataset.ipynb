{
 "cells": [
  {
   "cell_type": "markdown",
   "id": "e1634a66-9806-4c60-bf9b-df1146575292",
   "metadata": {},
   "source": [
    "# To get the median of a dataset"
   ]
  },
  {
   "cell_type": "markdown",
   "id": "37bc3a51-8c24-45a7-b766-f5e65d44a475",
   "metadata": {},
   "source": [
    "## Importing numpy and pandas"
   ]
  },
  {
   "cell_type": "code",
   "execution_count": 1,
   "id": "4898754b-df63-4043-bbab-1b13c2274fd0",
   "metadata": {},
   "outputs": [],
   "source": [
    "import numpy as np\n",
    "import pandas as pd"
   ]
  },
  {
   "cell_type": "markdown",
   "id": "a02820ce-3fff-42e3-a03b-e0fe777ecebe",
   "metadata": {},
   "source": [
    "## Loading Dataset and including relevant columns"
   ]
  },
  {
   "cell_type": "code",
   "execution_count": 3,
   "id": "192a994a-653c-43b1-b50b-2951abeb67e2",
   "metadata": {},
   "outputs": [],
   "source": [
    "covid_data = pd.read_csv('Data/covid-data.csv')\n",
    "\n",
    "covid_data = covid_data[['iso_code', 'continent', 'location', 'new_cases', 'total_cases']]"
   ]
  },
  {
   "cell_type": "code",
   "execution_count": 4,
   "id": "4b7e4736-6c73-410a-8cd9-61547b128d03",
   "metadata": {},
   "outputs": [
    {
     "data": {
      "text/html": [
       "<div>\n",
       "<style scoped>\n",
       "    .dataframe tbody tr th:only-of-type {\n",
       "        vertical-align: middle;\n",
       "    }\n",
       "\n",
       "    .dataframe tbody tr th {\n",
       "        vertical-align: top;\n",
       "    }\n",
       "\n",
       "    .dataframe thead th {\n",
       "        text-align: right;\n",
       "    }\n",
       "</style>\n",
       "<table border=\"1\" class=\"dataframe\">\n",
       "  <thead>\n",
       "    <tr style=\"text-align: right;\">\n",
       "      <th></th>\n",
       "      <th>iso_code</th>\n",
       "      <th>continent</th>\n",
       "      <th>location</th>\n",
       "      <th>new_cases</th>\n",
       "      <th>total_cases</th>\n",
       "    </tr>\n",
       "  </thead>\n",
       "  <tbody>\n",
       "    <tr>\n",
       "      <th>0</th>\n",
       "      <td>AFG</td>\n",
       "      <td>Asia</td>\n",
       "      <td>Afghanistan</td>\n",
       "      <td>5</td>\n",
       "      <td>5</td>\n",
       "    </tr>\n",
       "    <tr>\n",
       "      <th>1</th>\n",
       "      <td>AFG</td>\n",
       "      <td>Asia</td>\n",
       "      <td>Afghanistan</td>\n",
       "      <td>0</td>\n",
       "      <td>5</td>\n",
       "    </tr>\n",
       "    <tr>\n",
       "      <th>2</th>\n",
       "      <td>AFG</td>\n",
       "      <td>Asia</td>\n",
       "      <td>Afghanistan</td>\n",
       "      <td>0</td>\n",
       "      <td>5</td>\n",
       "    </tr>\n",
       "    <tr>\n",
       "      <th>3</th>\n",
       "      <td>AFG</td>\n",
       "      <td>Asia</td>\n",
       "      <td>Afghanistan</td>\n",
       "      <td>0</td>\n",
       "      <td>5</td>\n",
       "    </tr>\n",
       "    <tr>\n",
       "      <th>4</th>\n",
       "      <td>AFG</td>\n",
       "      <td>Asia</td>\n",
       "      <td>Afghanistan</td>\n",
       "      <td>0</td>\n",
       "      <td>5</td>\n",
       "    </tr>\n",
       "    <tr>\n",
       "      <th>5</th>\n",
       "      <td>AFG</td>\n",
       "      <td>Asia</td>\n",
       "      <td>Afghanistan</td>\n",
       "      <td>0</td>\n",
       "      <td>5</td>\n",
       "    </tr>\n",
       "    <tr>\n",
       "      <th>6</th>\n",
       "      <td>AFG</td>\n",
       "      <td>Asia</td>\n",
       "      <td>Afghanistan</td>\n",
       "      <td>0</td>\n",
       "      <td>5</td>\n",
       "    </tr>\n",
       "    <tr>\n",
       "      <th>7</th>\n",
       "      <td>AFG</td>\n",
       "      <td>Asia</td>\n",
       "      <td>Afghanistan</td>\n",
       "      <td>0</td>\n",
       "      <td>5</td>\n",
       "    </tr>\n",
       "    <tr>\n",
       "      <th>8</th>\n",
       "      <td>AFG</td>\n",
       "      <td>Asia</td>\n",
       "      <td>Afghanistan</td>\n",
       "      <td>0</td>\n",
       "      <td>5</td>\n",
       "    </tr>\n",
       "    <tr>\n",
       "      <th>9</th>\n",
       "      <td>AFG</td>\n",
       "      <td>Asia</td>\n",
       "      <td>Afghanistan</td>\n",
       "      <td>0</td>\n",
       "      <td>5</td>\n",
       "    </tr>\n",
       "  </tbody>\n",
       "</table>\n",
       "</div>"
      ],
      "text/plain": [
       "  iso_code continent     location  new_cases  total_cases\n",
       "0      AFG      Asia  Afghanistan          5            5\n",
       "1      AFG      Asia  Afghanistan          0            5\n",
       "2      AFG      Asia  Afghanistan          0            5\n",
       "3      AFG      Asia  Afghanistan          0            5\n",
       "4      AFG      Asia  Afghanistan          0            5\n",
       "5      AFG      Asia  Afghanistan          0            5\n",
       "6      AFG      Asia  Afghanistan          0            5\n",
       "7      AFG      Asia  Afghanistan          0            5\n",
       "8      AFG      Asia  Afghanistan          0            5\n",
       "9      AFG      Asia  Afghanistan          0            5"
      ]
     },
     "execution_count": 4,
     "metadata": {},
     "output_type": "execute_result"
    }
   ],
   "source": [
    "covid_data.head(10)"
   ]
  },
  {
   "cell_type": "markdown",
   "id": "3cad5df6-31cf-4967-9e86-bb8d2d57913e",
   "metadata": {},
   "source": [
    "## Getting median of new_cases and total_cases"
   ]
  },
  {
   "cell_type": "code",
   "execution_count": 6,
   "id": "fedaeba7-2d36-43b4-ad04-561ad778119b",
   "metadata": {},
   "outputs": [],
   "source": [
    "median_new_cases = np.median(covid_data['new_cases'])\n",
    "median_total_cases = np.median(covid_data['total_cases'])"
   ]
  },
  {
   "cell_type": "code",
   "execution_count": 7,
   "id": "9b1ddcfd-3dd4-4ce1-9f00-7d046a66cd4a",
   "metadata": {},
   "outputs": [
    {
     "data": {
      "text/plain": [
       "261.0"
      ]
     },
     "execution_count": 7,
     "metadata": {},
     "output_type": "execute_result"
    }
   ],
   "source": [
    "median_new_cases"
   ]
  },
  {
   "cell_type": "code",
   "execution_count": 8,
   "id": "448301d5-7767-4122-a440-c45c87f00bf1",
   "metadata": {},
   "outputs": [
    {
     "data": {
      "text/plain": [
       "176305.0"
      ]
     },
     "execution_count": 8,
     "metadata": {},
     "output_type": "execute_result"
    }
   ],
   "source": [
    "median_total_cases"
   ]
  },
  {
   "cell_type": "code",
   "execution_count": null,
   "id": "0be954fa-6f16-46a4-9ae1-53db761bb910",
   "metadata": {},
   "outputs": [],
   "source": []
  }
 ],
 "metadata": {
  "kernelspec": {
   "display_name": "Python 3 (ipykernel)",
   "language": "python",
   "name": "python3"
  },
  "language_info": {
   "codemirror_mode": {
    "name": "ipython",
    "version": 3
   },
   "file_extension": ".py",
   "mimetype": "text/x-python",
   "name": "python",
   "nbconvert_exporter": "python",
   "pygments_lexer": "ipython3",
   "version": "3.11.3"
  }
 },
 "nbformat": 4,
 "nbformat_minor": 5
}
