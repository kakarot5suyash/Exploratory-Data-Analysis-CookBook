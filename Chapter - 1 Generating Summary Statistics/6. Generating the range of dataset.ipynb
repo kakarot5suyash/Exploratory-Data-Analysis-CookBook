{
 "cells": [
  {
   "cell_type": "markdown",
   "id": "72d9398d-e3e0-44ab-a038-ba6f04883172",
   "metadata": {},
   "source": [
    "# Range of Dataset"
   ]
  },
  {
   "cell_type": "markdown",
   "id": "9f13636f-1e75-4b21-854b-b721b3672edb",
   "metadata": {},
   "source": [
    "## Importing numpy and pandas"
   ]
  },
  {
   "cell_type": "code",
   "execution_count": 1,
   "id": "21d095f5-c7e5-495a-9c0e-9916dcc0ae20",
   "metadata": {},
   "outputs": [],
   "source": [
    "import numpy as np\n",
    "import pandas as pd"
   ]
  },
  {
   "cell_type": "markdown",
   "id": "0cfb89c5-5f96-4789-9b4f-3acb132fd4ac",
   "metadata": {},
   "source": [
    "## Loading dataset and including relevant columns"
   ]
  },
  {
   "cell_type": "code",
   "execution_count": 2,
   "id": "866f1f75-0e5c-4fc7-a570-4e3c5ad06ddf",
   "metadata": {},
   "outputs": [],
   "source": [
    "covid_data = pd.read_csv('Data/covid-data.csv')\n",
    "covid_data = covid_data[['iso_code', 'continent', 'location', 'new_cases', 'total_cases']]"
   ]
  },
  {
   "cell_type": "markdown",
   "id": "b2a63763-0649-4469-a430-0686415a0a7e",
   "metadata": {},
   "source": [
    "## Computing maximum and minimum values of data"
   ]
  },
  {
   "cell_type": "code",
   "execution_count": 3,
   "id": "bc226d50-bed9-48b8-87ec-e3ca4174a4a3",
   "metadata": {},
   "outputs": [],
   "source": [
    "new_cases_max = np.max(covid_data['new_cases'])\n",
    "new_cases_min = np.min(covid_data['new_cases'])"
   ]
  },
  {
   "cell_type": "code",
   "execution_count": 5,
   "id": "a6c61c3a-07f3-43e2-9507-0ac4b6ea8dc5",
   "metadata": {},
   "outputs": [
    {
     "data": {
      "text/plain": [
       "287149"
      ]
     },
     "execution_count": 5,
     "metadata": {},
     "output_type": "execute_result"
    }
   ],
   "source": [
    "new_cases_max"
   ]
  },
  {
   "cell_type": "code",
   "execution_count": 6,
   "id": "a7465d12-50ef-436b-82c5-b6fdeaf9c2e0",
   "metadata": {},
   "outputs": [
    {
     "data": {
      "text/plain": [
       "0"
      ]
     },
     "execution_count": 6,
     "metadata": {},
     "output_type": "execute_result"
    }
   ],
   "source": [
    "new_cases_min"
   ]
  },
  {
   "cell_type": "code",
   "execution_count": 7,
   "id": "3ba76ed2-70aa-442e-b710-bfaa8bd24428",
   "metadata": {},
   "outputs": [],
   "source": [
    "new_cases_range = new_cases_max - new_cases_min"
   ]
  },
  {
   "cell_type": "code",
   "execution_count": 8,
   "id": "8004022b-f7ff-4cf5-a1d5-d4561134b26b",
   "metadata": {},
   "outputs": [
    {
     "data": {
      "text/plain": [
       "287149"
      ]
     },
     "execution_count": 8,
     "metadata": {},
     "output_type": "execute_result"
    }
   ],
   "source": [
    "new_cases_range"
   ]
  },
  {
   "cell_type": "code",
   "execution_count": null,
   "id": "a25ce2d3-8f31-43f5-af45-64e9d784c69d",
   "metadata": {},
   "outputs": [],
   "source": []
  }
 ],
 "metadata": {
  "kernelspec": {
   "display_name": "Python 3 (ipykernel)",
   "language": "python",
   "name": "python3"
  },
  "language_info": {
   "codemirror_mode": {
    "name": "ipython",
    "version": 3
   },
   "file_extension": ".py",
   "mimetype": "text/x-python",
   "name": "python",
   "nbconvert_exporter": "python",
   "pygments_lexer": "ipython3",
   "version": "3.11.3"
  }
 },
 "nbformat": 4,
 "nbformat_minor": 5
}
