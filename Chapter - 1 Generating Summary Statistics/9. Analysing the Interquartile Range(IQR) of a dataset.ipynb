{
 "cells": [
  {
   "cell_type": "markdown",
   "id": "fa0ca04c-b40d-4365-9585-1715300d8e7a",
   "metadata": {},
   "source": [
    "# IQR of a dataset"
   ]
  },
  {
   "cell_type": "markdown",
   "id": "ca2b1341-6ab5-4d1d-8654-f7ddf3fa50d3",
   "metadata": {},
   "source": [
    "## Importing pandas and stats module from scipy library"
   ]
  },
  {
   "cell_type": "code",
   "execution_count": 1,
   "id": "5368d90c-4496-43dd-bf82-d126cc3dbe2b",
   "metadata": {},
   "outputs": [],
   "source": [
    "import pandas as pd\n",
    "from scipy import stats"
   ]
  },
  {
   "cell_type": "markdown",
   "id": "9e62da7e-3f4b-4cf4-b606-9508c4f5dc5a",
   "metadata": {},
   "source": [
    "## Loading dataset and including relevant columns"
   ]
  },
  {
   "cell_type": "code",
   "execution_count": 2,
   "id": "cbfb1732-54a8-4805-84e4-0ad8ed2877f8",
   "metadata": {},
   "outputs": [],
   "source": [
    "covid_data = pd.read_csv('Data/covid-data.csv')\n",
    "covid_data = covid_data[['iso_code', 'continent', 'location', 'new_cases', 'total_cases']]"
   ]
  },
  {
   "cell_type": "markdown",
   "id": "10d8ba5e-5843-42c6-9c8a-967cd0202bda",
   "metadata": {},
   "source": [
    "## Obtaining IQR"
   ]
  },
  {
   "cell_type": "code",
   "execution_count": 3,
   "id": "20c71746-4178-4958-8d3c-9b716660114f",
   "metadata": {},
   "outputs": [],
   "source": [
    "data_IQR = stats.iqr(covid_data['new_cases'])"
   ]
  },
  {
   "cell_type": "code",
   "execution_count": 4,
   "id": "8f54afb9-45bb-4263-ad94-aa5628adbf06",
   "metadata": {},
   "outputs": [
    {
     "data": {
      "text/plain": [
       "3642.0"
      ]
     },
     "execution_count": 4,
     "metadata": {},
     "output_type": "execute_result"
    }
   ],
   "source": [
    "data_IQR"
   ]
  },
  {
   "cell_type": "code",
   "execution_count": null,
   "id": "0b67e503-7cc1-4522-9abc-1ced3009398e",
   "metadata": {},
   "outputs": [],
   "source": []
  }
 ],
 "metadata": {
  "kernelspec": {
   "display_name": "Python 3 (ipykernel)",
   "language": "python",
   "name": "python3"
  },
  "language_info": {
   "codemirror_mode": {
    "name": "ipython",
    "version": 3
   },
   "file_extension": ".py",
   "mimetype": "text/x-python",
   "name": "python",
   "nbconvert_exporter": "python",
   "pygments_lexer": "ipython3",
   "version": "3.11.3"
  }
 },
 "nbformat": 4,
 "nbformat_minor": 5
}
