{
 "cells": [
  {
   "cell_type": "markdown",
   "id": "e5d763ee-5704-465a-b894-3ad643ac02d2",
   "metadata": {},
   "source": [
    "# Getting the mode of dataset\n"
   ]
  },
  {
   "cell_type": "markdown",
   "id": "0996022b-2865-4461-85b2-e4e4ae5d68fc",
   "metadata": {},
   "source": [
    "## Importing numpy and pandas library and stats from scipy "
   ]
  },
  {
   "cell_type": "code",
   "execution_count": 3,
   "id": "0a5c5ac9-e164-4a1f-8778-4d609572f109",
   "metadata": {},
   "outputs": [],
   "source": [
    "import numpy as np\n",
    "import pandas as pd\n",
    "from scipy import stats"
   ]
  },
  {
   "cell_type": "markdown",
   "id": "359dee0d-bbd8-4b08-bfcf-bc649e894417",
   "metadata": {},
   "source": [
    "## Loading the dataset and including relevant columns"
   ]
  },
  {
   "cell_type": "code",
   "execution_count": 4,
   "id": "0e2268ca-63fc-43a5-bbea-f884beddc46a",
   "metadata": {},
   "outputs": [],
   "source": [
    "covid_data = pd.read_csv('Data/covid-data.csv')\n",
    "covid_data = covid_data[['iso_code', 'continent', 'location', 'new_cases', 'total_cases']]"
   ]
  },
  {
   "cell_type": "markdown",
   "id": "328c68d8-ff44-4b18-9dc6-8f3c7f47744c",
   "metadata": {},
   "source": [
    "## Getting the mode of new_cases"
   ]
  },
  {
   "cell_type": "code",
   "execution_count": 5,
   "id": "d7db0d55-a20a-4d92-b0d1-5c5e4d5b6b9b",
   "metadata": {},
   "outputs": [],
   "source": [
    "mode_new_cases = stats.mode(covid_data['new_cases'])"
   ]
  },
  {
   "cell_type": "code",
   "execution_count": 6,
   "id": "96d1cae4-0faf-452c-be7c-b2bd26085d33",
   "metadata": {},
   "outputs": [
    {
     "data": {
      "text/plain": [
       "ModeResult(mode=0, count=805)"
      ]
     },
     "execution_count": 6,
     "metadata": {},
     "output_type": "execute_result"
    }
   ],
   "source": [
    "mode_new_cases"
   ]
  },
  {
   "cell_type": "code",
   "execution_count": 9,
   "id": "d0fa3178-a0b2-4473-ae47-44b53e7fb405",
   "metadata": {},
   "outputs": [
    {
     "data": {
      "text/plain": [
       "0"
      ]
     },
     "execution_count": 9,
     "metadata": {},
     "output_type": "execute_result"
    }
   ],
   "source": [
    "mode_new_cases[0]"
   ]
  },
  {
   "cell_type": "code",
   "execution_count": null,
   "id": "47de4ceb-29c7-4e46-b888-eeac3f38950f",
   "metadata": {},
   "outputs": [],
   "source": []
  },
  {
   "cell_type": "code",
   "execution_count": null,
   "id": "0ade8e11-36e9-4ef7-9327-532f38bd5e83",
   "metadata": {},
   "outputs": [],
   "source": []
  }
 ],
 "metadata": {
  "kernelspec": {
   "display_name": "Python 3 (ipykernel)",
   "language": "python",
   "name": "python3"
  },
  "language_info": {
   "codemirror_mode": {
    "name": "ipython",
    "version": 3
   },
   "file_extension": ".py",
   "mimetype": "text/x-python",
   "name": "python",
   "nbconvert_exporter": "python",
   "pygments_lexer": "ipython3",
   "version": "3.11.3"
  }
 },
 "nbformat": 4,
 "nbformat_minor": 5
}
