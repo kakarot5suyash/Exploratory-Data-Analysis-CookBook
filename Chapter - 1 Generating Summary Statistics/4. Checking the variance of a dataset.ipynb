{
 "cells": [
  {
   "cell_type": "markdown",
   "id": "9b0e95eb-c5cb-4905-8335-c44e01e3f403",
   "metadata": {},
   "source": [
    "# Getting Variance using Covid dataset"
   ]
  },
  {
   "cell_type": "markdown",
   "id": "946f5490-ee02-4796-85d3-67da60984844",
   "metadata": {},
   "source": [
    "## Importing numpy and pandas"
   ]
  },
  {
   "cell_type": "code",
   "execution_count": 1,
   "id": "f7dbdb11-b905-4519-b063-2783aca536a0",
   "metadata": {},
   "outputs": [],
   "source": [
    "import numpy as np\n",
    "import pandas as pd"
   ]
  },
  {
   "cell_type": "markdown",
   "id": "3476a97c-afe8-42c3-ba7a-a72851fab5a5",
   "metadata": {},
   "source": [
    "## Loading Covid Dataset and getting relevant columns"
   ]
  },
  {
   "cell_type": "code",
   "execution_count": 2,
   "id": "9058c881-63b2-42d1-bc26-a9026da0c5f8",
   "metadata": {},
   "outputs": [],
   "source": [
    "covid_data = pd.read_csv('Data/covid-data.csv')\n",
    "covid_data = covid_data[['iso_code', 'continent', 'location', 'new_cases', 'total_cases']]"
   ]
  },
  {
   "cell_type": "markdown",
   "id": "4cfa9e3e-d5cd-4d14-b74c-0a1dbc0e6e5d",
   "metadata": {},
   "source": [
    "## Getting variance of dataset"
   ]
  },
  {
   "cell_type": "code",
   "execution_count": 3,
   "id": "2ddc95cd-44ac-4dd6-96fe-61a7d601acfb",
   "metadata": {},
   "outputs": [],
   "source": [
    "data_variance = np.var(covid_data['new_cases'])"
   ]
  },
  {
   "cell_type": "code",
   "execution_count": 4,
   "id": "abf80bf2-ee82-4b20-aded-f4bf364e47ba",
   "metadata": {},
   "outputs": [
    {
     "data": {
      "text/plain": [
       "451321915.9280954"
      ]
     },
     "execution_count": 4,
     "metadata": {},
     "output_type": "execute_result"
    }
   ],
   "source": [
    "data_variance"
   ]
  },
  {
   "cell_type": "code",
   "execution_count": null,
   "id": "1a88e341-a30d-4d39-ba69-7dbdf27ca6d6",
   "metadata": {},
   "outputs": [],
   "source": []
  }
 ],
 "metadata": {
  "kernelspec": {
   "display_name": "Python 3 (ipykernel)",
   "language": "python",
   "name": "python3"
  },
  "language_info": {
   "codemirror_mode": {
    "name": "ipython",
    "version": 3
   },
   "file_extension": ".py",
   "mimetype": "text/x-python",
   "name": "python",
   "nbconvert_exporter": "python",
   "pygments_lexer": "ipython3",
   "version": "3.11.3"
  }
 },
 "nbformat": 4,
 "nbformat_minor": 5
}
