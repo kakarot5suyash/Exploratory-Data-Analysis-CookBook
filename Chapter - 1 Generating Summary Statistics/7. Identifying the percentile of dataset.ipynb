{
 "cells": [
  {
   "cell_type": "markdown",
   "id": "6bf635f3-47dc-41e9-bc1b-c1a02a032942",
   "metadata": {},
   "source": [
    "# Percentile of Dataset"
   ]
  },
  {
   "cell_type": "markdown",
   "id": "b02f8a82-43a5-4e6d-8ea5-0f4b0a5e4a24",
   "metadata": {},
   "source": [
    "## Importing numpy and pandas"
   ]
  },
  {
   "cell_type": "code",
   "execution_count": 1,
   "id": "d8c1a8da-614f-4130-bb09-03ab851b5d5c",
   "metadata": {},
   "outputs": [],
   "source": [
    "import numpy as np\n",
    "import pandas as pd"
   ]
  },
  {
   "cell_type": "markdown",
   "id": "49d85e2b-fd9a-4938-b716-528b6149d94e",
   "metadata": {},
   "source": [
    "## Loading dataset and including relevent columns"
   ]
  },
  {
   "cell_type": "code",
   "execution_count": 2,
   "id": "1f1034ce-a361-4bd6-ac9d-379f99b84345",
   "metadata": {},
   "outputs": [],
   "source": [
    "covid_data = pd.read_csv('Data/covid-data.csv')\n",
    "covid_data = covid_data[['iso_code', 'continent', 'location', 'new_cases', 'total_cases']]"
   ]
  },
  {
   "cell_type": "markdown",
   "id": "6201b45f-a8c1-43f9-a6ad-fa3778d0db83",
   "metadata": {},
   "source": [
    "## Getting 60th percentile of new cases"
   ]
  },
  {
   "cell_type": "code",
   "execution_count": 4,
   "id": "027ebbe8-4500-4140-a307-db77eb22a5c5",
   "metadata": {},
   "outputs": [],
   "source": [
    "data_percentile = np.percentile(covid_data['new_cases'], 60)"
   ]
  },
  {
   "cell_type": "code",
   "execution_count": 5,
   "id": "93195b96-9a24-45d3-87b5-7e7eea3b7a28",
   "metadata": {},
   "outputs": [
    {
     "data": {
      "text/plain": [
       "591.3999999999996"
      ]
     },
     "execution_count": 5,
     "metadata": {},
     "output_type": "execute_result"
    }
   ],
   "source": [
    "data_percentile"
   ]
  },
  {
   "cell_type": "markdown",
   "id": "9ce9517f-51d3-4eec-82e8-4bc286a33c31",
   "metadata": {},
   "source": [
    "## Obtaning 70th percentile of new cases"
   ]
  },
  {
   "cell_type": "code",
   "execution_count": 6,
   "id": "77d98114-14d5-4fe1-94b8-34a6f13eb96d",
   "metadata": {},
   "outputs": [],
   "source": [
    "data_percentile70 = np.percentile(covid_data['new_cases'], 70)"
   ]
  },
  {
   "cell_type": "code",
   "execution_count": 7,
   "id": "e90cb24c-fdbe-4250-94f7-6d679e93f4c6",
   "metadata": {},
   "outputs": [
    {
     "data": {
      "text/plain": [
       "1771.199999999997"
      ]
     },
     "execution_count": 7,
     "metadata": {},
     "output_type": "execute_result"
    }
   ],
   "source": [
    "data_percentile70"
   ]
  },
  {
   "cell_type": "code",
   "execution_count": null,
   "id": "4cc84978-e01f-476e-837e-543ce84225e3",
   "metadata": {},
   "outputs": [],
   "source": []
  }
 ],
 "metadata": {
  "kernelspec": {
   "display_name": "Python 3 (ipykernel)",
   "language": "python",
   "name": "python3"
  },
  "language_info": {
   "codemirror_mode": {
    "name": "ipython",
    "version": 3
   },
   "file_extension": ".py",
   "mimetype": "text/x-python",
   "name": "python",
   "nbconvert_exporter": "python",
   "pygments_lexer": "ipython3",
   "version": "3.11.3"
  }
 },
 "nbformat": 4,
 "nbformat_minor": 5
}
