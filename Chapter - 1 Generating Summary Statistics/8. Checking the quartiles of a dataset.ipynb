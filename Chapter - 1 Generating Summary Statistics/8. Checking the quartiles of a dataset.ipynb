{
 "cells": [
  {
   "cell_type": "markdown",
   "id": "08c93e70-6351-43c3-b7d2-57fe6042b43b",
   "metadata": {},
   "source": [
    "# Quartile of dataset"
   ]
  },
  {
   "cell_type": "markdown",
   "id": "8c8a887c-2bf9-45cc-b7a7-b2de3fd5e466",
   "metadata": {},
   "source": [
    "## Importing numpy and pandas"
   ]
  },
  {
   "cell_type": "code",
   "execution_count": 1,
   "id": "701fdcd6-1ee1-4de8-a86f-6f7830f2f812",
   "metadata": {},
   "outputs": [],
   "source": [
    "import numpy as np\n",
    "import pandas as pd"
   ]
  },
  {
   "cell_type": "markdown",
   "id": "ecf0d0e8-916c-4dd0-b7cc-9f24a3f8275e",
   "metadata": {},
   "source": [
    "## Loading dataset and including relevant columns"
   ]
  },
  {
   "cell_type": "code",
   "execution_count": 2,
   "id": "b8a9528b-47ee-494e-b75c-0d2d0004e760",
   "metadata": {},
   "outputs": [],
   "source": [
    "covid_data = pd.read_csv('Data/covid-data.csv')\n",
    "covid_data = covid_data[['iso_code', 'continent', 'location', 'new_cases', 'total_cases']]"
   ]
  },
  {
   "cell_type": "markdown",
   "id": "440b90d6-cd37-4791-93e8-dcb54d893c3f",
   "metadata": {},
   "source": [
    "## Obtaining 3rd quartile of data"
   ]
  },
  {
   "cell_type": "code",
   "execution_count": 6,
   "id": "83f59ae8-c848-4103-ba0c-3925f94efdf9",
   "metadata": {},
   "outputs": [],
   "source": [
    "quartile_new_cases = np.quantile(covid_data['new_cases'], 0.75)"
   ]
  },
  {
   "cell_type": "code",
   "execution_count": 7,
   "id": "d5134702-f2f9-4c40-b691-3a93fe891365",
   "metadata": {},
   "outputs": [
    {
     "data": {
      "text/plain": [
       "3666.0"
      ]
     },
     "execution_count": 7,
     "metadata": {},
     "output_type": "execute_result"
    }
   ],
   "source": [
    "quartile_new_cases"
   ]
  },
  {
   "cell_type": "code",
   "execution_count": 8,
   "id": "5c09221d-6843-4b60-b20b-cb369c3b06b6",
   "metadata": {},
   "outputs": [],
   "source": [
    "quartile_new_cases2 = np.quantile(covid_data['new_cases'], 0.25)"
   ]
  },
  {
   "cell_type": "code",
   "execution_count": 9,
   "id": "4c0311d6-e7dd-46e9-bb68-7c7e80b05e2b",
   "metadata": {},
   "outputs": [
    {
     "data": {
      "text/plain": [
       "24.0"
      ]
     },
     "execution_count": 9,
     "metadata": {},
     "output_type": "execute_result"
    }
   ],
   "source": [
    "quartile_new_cases2"
   ]
  },
  {
   "cell_type": "code",
   "execution_count": 10,
   "id": "17dce18d-5060-4c80-a52a-a2d6a086949a",
   "metadata": {},
   "outputs": [],
   "source": [
    "quartile_new_cases3 = np.quantile(covid_data['new_cases'], 0.50)"
   ]
  },
  {
   "cell_type": "code",
   "execution_count": 11,
   "id": "2e467d4e-8620-4dbe-a441-922863cbf54d",
   "metadata": {},
   "outputs": [
    {
     "data": {
      "text/plain": [
       "261.0"
      ]
     },
     "execution_count": 11,
     "metadata": {},
     "output_type": "execute_result"
    }
   ],
   "source": [
    "quartile_new_cases3"
   ]
  },
  {
   "cell_type": "code",
   "execution_count": null,
   "id": "7678a040-86de-45f3-949c-b3c14223b09b",
   "metadata": {},
   "outputs": [],
   "source": []
  }
 ],
 "metadata": {
  "kernelspec": {
   "display_name": "Python 3 (ipykernel)",
   "language": "python",
   "name": "python3"
  },
  "language_info": {
   "codemirror_mode": {
    "name": "ipython",
    "version": 3
   },
   "file_extension": ".py",
   "mimetype": "text/x-python",
   "name": "python",
   "nbconvert_exporter": "python",
   "pygments_lexer": "ipython3",
   "version": "3.11.3"
  }
 },
 "nbformat": 4,
 "nbformat_minor": 5
}
